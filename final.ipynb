{
 "cells": [
  {
   "cell_type": "markdown",
   "metadata": {
    "id": "intro_project"
   },
   "source": [
    "# Deep Learning Project: Abstractive Summarization of Research Papers\n",
    "\n",
    "**Project Overview:**\n",
    "This project tackles Project 2 (Natural Language Processing) from the course description. The goal is to build and evaluate a model for abstractive summarization, specifically generating concise titles (summaries) from research paper abstracts.\n",
    "\n",
    "**Instructors:** Hanna Abi Akl and Benoit Mialet\n",
    "\n",
    "**Members**: Hénok Agbodjogbe, Elizaveta Daniliina, Spéro Tossogbe\n",
    "\n",
    "**Task:** Abstractive Summarization"
   ]
  },
  {
   "cell_type": "markdown",
   "metadata": {
    "id": "use_cases"
   },
   "source": [
    "## Use Cases:\n",
    "1.  **Creating short paper digests:** Automatically generate concise titles/summaries for quick browsing of research databases (like arXiv, PubMed).\n",
    "2.  **Assisting researchers:** Help researchers quickly grasp the core topic of a paper from its abstract by providing a succinct generated title.\n",
    "3.  **Improving Search & Indexing:** Generated titles can potentially improve keyword extraction and search relevance for academic search engines."
   ]
  },
  {
   "cell_type": "markdown",
   "metadata": {
    "id": "install_libs"
   },
   "source": [
    "## 1. Setup: Install Libraries and Import Modules"
   ]
  },
  {
   "cell_type": "code",
   "execution_count": null,
   "metadata": {},
   "outputs": [
    {
     "name": "stdout",
     "output_type": "stream",
     "text": [
      "Requirement already satisfied: transformers in /usr/local/lib/python3.11/dist-packages (4.51.3)\n",
      "Requirement already satisfied: datasets in /usr/local/lib/python3.11/dist-packages (3.5.1)\n",
      "Requirement already satisfied: rouge-score in /usr/local/lib/python3.11/dist-packages (0.1.2)\n",
      "Requirement already satisfied: nltk in /usr/local/lib/python3.11/dist-packages (3.9.1)\n",
      "Requirement already satisfied: matplotlib in /usr/local/lib/python3.11/dist-packages (3.10.0)\n",
      "Requirement already satisfied: seaborn in /usr/local/lib/python3.11/dist-packages (0.13.2)\n",
      "Requirement already satisfied: evaluate in /usr/local/lib/python3.11/dist-packages (0.4.3)\n",
      "Requirement already satisfied: mlflow==2.10.1 in /usr/local/lib/python3.11/dist-packages (2.10.1)\n",
      "Requirement already satisfied: torch in /usr/local/lib/python3.11/dist-packages (2.6.0+cu124)\n",
      "Requirement already satisfied: click<9,>=7.0 in /usr/local/lib/python3.11/dist-packages (from mlflow==2.10.1) (8.1.8)\n",
      "Requirement already satisfied: cloudpickle<4 in /usr/local/lib/python3.11/dist-packages (from mlflow==2.10.1) (3.1.1)\n",
      "Requirement already satisfied: databricks-cli<1,>=0.8.7 in /usr/local/lib/python3.11/dist-packages (from mlflow==2.10.1) (0.18.0)\n",
      "Requirement already satisfied: entrypoints<1 in /usr/local/lib/python3.11/dist-packages (from mlflow==2.10.1) (0.4)\n",
      "Requirement already satisfied: gitpython<4,>=2.1.0 in /usr/local/lib/python3.11/dist-packages (from mlflow==2.10.1) (3.1.44)\n",
      "Requirement already satisfied: pyyaml<7,>=5.1 in /usr/local/lib/python3.11/dist-packages (from mlflow==2.10.1) (6.0.2)\n",
      "Requirement already satisfied: protobuf<5,>=3.12.0 in /usr/local/lib/python3.11/dist-packages (from mlflow==2.10.1) (4.25.7)\n",
      "Requirement already satisfied: pytz<2024 in /usr/local/lib/python3.11/dist-packages (from mlflow==2.10.1) (2023.4)\n",
      "Requirement already satisfied: requests<3,>=2.17.3 in /usr/local/lib/python3.11/dist-packages (from mlflow==2.10.1) (2.32.3)\n",
      "Requirement already satisfied: packaging<24 in /usr/local/lib/python3.11/dist-packages (from mlflow==2.10.1) (23.2)\n",
      "Requirement already satisfied: importlib-metadata!=4.7.0,<8,>=3.7.0 in /usr/local/lib/python3.11/dist-packages (from mlflow==2.10.1) (7.2.1)\n",
      "Requirement already satisfied: sqlparse<1,>=0.4.0 in /usr/local/lib/python3.11/dist-packages (from mlflow==2.10.1) (0.5.3)\n",
      "Requirement already satisfied: alembic!=1.10.0,<2 in /usr/local/lib/python3.11/dist-packages (from mlflow==2.10.1) (1.15.2)\n",
      "Requirement already satisfied: docker<8,>=4.0.0 in /usr/local/lib/python3.11/dist-packages (from mlflow==2.10.1) (7.1.0)\n",
      "Requirement already satisfied: Flask<4 in /usr/local/lib/python3.11/dist-packages (from mlflow==2.10.1) (3.1.0)\n",
      "Requirement already satisfied: numpy<2 in /usr/local/lib/python3.11/dist-packages (from mlflow==2.10.1) (1.26.4)\n",
      "Requirement already satisfied: scipy<2 in /usr/local/lib/python3.11/dist-packages (from mlflow==2.10.1) (1.15.2)\n",
      "Requirement already satisfied: pandas<3 in /usr/local/lib/python3.11/dist-packages (from mlflow==2.10.1) (2.2.2)\n",
      "Requirement already satisfied: querystring-parser<2 in /usr/local/lib/python3.11/dist-packages (from mlflow==2.10.1) (1.2.4)\n",
      "Requirement already satisfied: sqlalchemy<3,>=1.4.0 in /usr/local/lib/python3.11/dist-packages (from mlflow==2.10.1) (2.0.40)\n",
      "Requirement already satisfied: scikit-learn<2 in /usr/local/lib/python3.11/dist-packages (from mlflow==2.10.1) (1.6.1)\n",
      "Requirement already satisfied: pyarrow<16,>=4.0.0 in /usr/local/lib/python3.11/dist-packages (from mlflow==2.10.1) (15.0.2)\n",
      "Requirement already satisfied: markdown<4,>=3.3 in /usr/local/lib/python3.11/dist-packages (from mlflow==2.10.1) (3.8)\n",
      "Requirement already satisfied: gunicorn<22 in /usr/local/lib/python3.11/dist-packages (from mlflow==2.10.1) (21.2.0)\n",
      "Requirement already satisfied: Jinja2<4,>=2.11 in /usr/local/lib/python3.11/dist-packages (from mlflow==2.10.1) (3.1.6)\n",
      "Requirement already satisfied: filelock in /usr/local/lib/python3.11/dist-packages (from transformers) (3.18.0)\n",
      "Requirement already satisfied: huggingface-hub<1.0,>=0.30.0 in /usr/local/lib/python3.11/dist-packages (from transformers) (0.30.2)\n",
      "Requirement already satisfied: regex!=2019.12.17 in /usr/local/lib/python3.11/dist-packages (from transformers) (2024.11.6)\n",
      "Requirement already satisfied: tokenizers<0.22,>=0.21 in /usr/local/lib/python3.11/dist-packages (from transformers) (0.21.1)\n",
      "Requirement already satisfied: safetensors>=0.4.3 in /usr/local/lib/python3.11/dist-packages (from transformers) (0.5.3)\n",
      "Requirement already satisfied: tqdm>=4.27 in /usr/local/lib/python3.11/dist-packages (from transformers) (4.67.1)\n",
      "Requirement already satisfied: dill<0.3.9,>=0.3.0 in /usr/local/lib/python3.11/dist-packages (from datasets) (0.3.8)\n",
      "Requirement already satisfied: xxhash in /usr/local/lib/python3.11/dist-packages (from datasets) (3.5.0)\n",
      "Requirement already satisfied: multiprocess<0.70.17 in /usr/local/lib/python3.11/dist-packages (from datasets) (0.70.16)\n",
      "Requirement already satisfied: fsspec<=2025.3.0,>=2023.1.0 in /usr/local/lib/python3.11/dist-packages (from fsspec[http]<=2025.3.0,>=2023.1.0->datasets) (2025.3.0)\n",
      "Requirement already satisfied: aiohttp in /usr/local/lib/python3.11/dist-packages (from datasets) (3.11.15)\n",
      "Requirement already satisfied: absl-py in /usr/local/lib/python3.11/dist-packages (from rouge-score) (1.4.0)\n",
      "Requirement already satisfied: six>=1.14.0 in /usr/local/lib/python3.11/dist-packages (from rouge-score) (1.17.0)\n",
      "Requirement already satisfied: joblib in /usr/local/lib/python3.11/dist-packages (from nltk) (1.4.2)\n",
      "Requirement already satisfied: contourpy>=1.0.1 in /usr/local/lib/python3.11/dist-packages (from matplotlib) (1.3.2)\n",
      "Requirement already satisfied: cycler>=0.10 in /usr/local/lib/python3.11/dist-packages (from matplotlib) (0.12.1)\n",
      "Requirement already satisfied: fonttools>=4.22.0 in /usr/local/lib/python3.11/dist-packages (from matplotlib) (4.57.0)\n",
      "Requirement already satisfied: kiwisolver>=1.3.1 in /usr/local/lib/python3.11/dist-packages (from matplotlib) (1.4.8)\n",
      "Requirement already satisfied: pillow>=8 in /usr/local/lib/python3.11/dist-packages (from matplotlib) (11.2.1)\n",
      "Requirement already satisfied: pyparsing>=2.3.1 in /usr/local/lib/python3.11/dist-packages (from matplotlib) (3.2.3)\n",
      "Requirement already satisfied: python-dateutil>=2.7 in /usr/local/lib/python3.11/dist-packages (from matplotlib) (2.9.0.post0)\n",
      "Requirement already satisfied: typing-extensions>=4.10.0 in /usr/local/lib/python3.11/dist-packages (from torch) (4.13.2)\n",
      "Requirement already satisfied: networkx in /usr/local/lib/python3.11/dist-packages (from torch) (3.4.2)\n",
      "Requirement already satisfied: nvidia-cuda-nvrtc-cu12==12.4.127 in /usr/local/lib/python3.11/dist-packages (from torch) (12.4.127)\n",
      "Requirement already satisfied: nvidia-cuda-runtime-cu12==12.4.127 in /usr/local/lib/python3.11/dist-packages (from torch) (12.4.127)\n",
      "Requirement already satisfied: nvidia-cuda-cupti-cu12==12.4.127 in /usr/local/lib/python3.11/dist-packages (from torch) (12.4.127)\n",
      "Requirement already satisfied: nvidia-cudnn-cu12==9.1.0.70 in /usr/local/lib/python3.11/dist-packages (from torch) (9.1.0.70)\n",
      "Requirement already satisfied: nvidia-cublas-cu12==12.4.5.8 in /usr/local/lib/python3.11/dist-packages (from torch) (12.4.5.8)\n",
      "Requirement already satisfied: nvidia-cufft-cu12==11.2.1.3 in /usr/local/lib/python3.11/dist-packages (from torch) (11.2.1.3)\n",
      "Requirement already satisfied: nvidia-curand-cu12==10.3.5.147 in /usr/local/lib/python3.11/dist-packages (from torch) (10.3.5.147)\n",
      "Requirement already satisfied: nvidia-cusolver-cu12==11.6.1.9 in /usr/local/lib/python3.11/dist-packages (from torch) (11.6.1.9)\n",
      "Requirement already satisfied: nvidia-cusparse-cu12==12.3.1.170 in /usr/local/lib/python3.11/dist-packages (from torch) (12.3.1.170)\n",
      "Requirement already satisfied: nvidia-cusparselt-cu12==0.6.2 in /usr/local/lib/python3.11/dist-packages (from torch) (0.6.2)\n",
      "Requirement already satisfied: nvidia-nccl-cu12==2.21.5 in /usr/local/lib/python3.11/dist-packages (from torch) (2.21.5)\n",
      "Requirement already satisfied: nvidia-nvtx-cu12==12.4.127 in /usr/local/lib/python3.11/dist-packages (from torch) (12.4.127)\n",
      "Requirement already satisfied: nvidia-nvjitlink-cu12==12.4.127 in /usr/local/lib/python3.11/dist-packages (from torch) (12.4.127)\n",
      "Requirement already satisfied: triton==3.2.0 in /usr/local/lib/python3.11/dist-packages (from torch) (3.2.0)\n",
      "Requirement already satisfied: sympy==1.13.1 in /usr/local/lib/python3.11/dist-packages (from torch) (1.13.1)\n",
      "Requirement already satisfied: mpmath<1.4,>=1.1.0 in /usr/local/lib/python3.11/dist-packages (from sympy==1.13.1->torch) (1.3.0)\n",
      "Requirement already satisfied: Mako in /usr/lib/python3/dist-packages (from alembic!=1.10.0,<2->mlflow==2.10.1) (1.1.3)\n",
      "Requirement already satisfied: pyjwt>=1.7.0 in /usr/local/lib/python3.11/dist-packages (from databricks-cli<1,>=0.8.7->mlflow==2.10.1) (2.10.1)\n",
      "Requirement already satisfied: oauthlib>=3.1.0 in /usr/local/lib/python3.11/dist-packages (from databricks-cli<1,>=0.8.7->mlflow==2.10.1) (3.2.2)\n",
      "Requirement already satisfied: tabulate>=0.7.7 in /usr/local/lib/python3.11/dist-packages (from databricks-cli<1,>=0.8.7->mlflow==2.10.1) (0.9.0)\n",
      "Requirement already satisfied: urllib3<3,>=1.26.7 in /usr/local/lib/python3.11/dist-packages (from databricks-cli<1,>=0.8.7->mlflow==2.10.1) (2.4.0)\n",
      "Requirement already satisfied: Werkzeug>=3.1 in /usr/local/lib/python3.11/dist-packages (from Flask<4->mlflow==2.10.1) (3.1.3)\n",
      "Requirement already satisfied: itsdangerous>=2.2 in /usr/local/lib/python3.11/dist-packages (from Flask<4->mlflow==2.10.1) (2.2.0)\n",
      "Requirement already satisfied: blinker>=1.9 in /usr/local/lib/python3.11/dist-packages (from Flask<4->mlflow==2.10.1) (1.9.0)\n",
      "Requirement already satisfied: aiohappyeyeballs>=2.3.0 in /usr/local/lib/python3.11/dist-packages (from aiohttp->datasets) (2.6.1)\n",
      "Requirement already satisfied: aiosignal>=1.1.2 in /usr/local/lib/python3.11/dist-packages (from aiohttp->datasets) (1.3.2)\n",
      "Requirement already satisfied: attrs>=17.3.0 in /usr/local/lib/python3.11/dist-packages (from aiohttp->datasets) (25.3.0)\n",
      "Requirement already satisfied: frozenlist>=1.1.1 in /usr/local/lib/python3.11/dist-packages (from aiohttp->datasets) (1.6.0)\n",
      "Requirement already satisfied: multidict<7.0,>=4.5 in /usr/local/lib/python3.11/dist-packages (from aiohttp->datasets) (6.4.3)\n",
      "Requirement already satisfied: propcache>=0.2.0 in /usr/local/lib/python3.11/dist-packages (from aiohttp->datasets) (0.3.1)\n",
      "Requirement already satisfied: yarl<2.0,>=1.17.0 in /usr/local/lib/python3.11/dist-packages (from aiohttp->datasets) (1.20.0)\n",
      "Requirement already satisfied: gitdb<5,>=4.0.1 in /usr/local/lib/python3.11/dist-packages (from gitpython<4,>=2.1.0->mlflow==2.10.1) (4.0.12)\n",
      "Requirement already satisfied: zipp>=0.5 in /usr/local/lib/python3.11/dist-packages (from importlib-metadata!=4.7.0,<8,>=3.7.0->mlflow==2.10.1) (3.21.0)\n",
      "Requirement already satisfied: MarkupSafe>=2.0 in /usr/local/lib/python3.11/dist-packages (from Jinja2<4,>=2.11->mlflow==2.10.1) (3.0.2)\n",
      "Requirement already satisfied: tzdata>=2022.7 in /usr/local/lib/python3.11/dist-packages (from pandas<3->mlflow==2.10.1) (2025.2)\n",
      "Requirement already satisfied: charset-normalizer<4,>=2 in /usr/local/lib/python3.11/dist-packages (from requests<3,>=2.17.3->mlflow==2.10.1) (3.4.1)\n",
      "Requirement already satisfied: idna<4,>=2.5 in /usr/local/lib/python3.11/dist-packages (from requests<3,>=2.17.3->mlflow==2.10.1) (3.10)\n",
      "Requirement already satisfied: certifi>=2017.4.17 in /usr/local/lib/python3.11/dist-packages (from requests<3,>=2.17.3->mlflow==2.10.1) (2025.4.26)\n",
      "Requirement already satisfied: threadpoolctl>=3.1.0 in /usr/local/lib/python3.11/dist-packages (from scikit-learn<2->mlflow==2.10.1) (3.6.0)\n",
      "Requirement already satisfied: greenlet>=1 in /usr/local/lib/python3.11/dist-packages (from sqlalchemy<3,>=1.4.0->mlflow==2.10.1) (3.2.1)\n",
      "Requirement already satisfied: smmap<6,>=3.0.1 in /usr/local/lib/python3.11/dist-packages (from gitdb<5,>=4.0.1->gitpython<4,>=2.1.0->mlflow==2.10.1) (5.0.2)\n"
     ]
    },
    {
     "name": "stderr",
     "output_type": "stream",
     "text": [
      "[nltk_data] Downloading package punkt_tab to /root/nltk_data...\n",
      "[nltk_data]   Unzipping tokenizers/punkt_tab.zip.\n"
     ]
    }
   ],
   "source": [
    "!pip install transformers datasets rouge-score nltk matplotlib seaborn evaluate mlflow==2.10.1 torch # Pinned mlflow version for stability\n",
    "\n",
    "from src import text_analysis, get_top_words, tf_idf_cosine_sim, jaccard_similarity, lead_3_summary, evaluate_baseline, preprocess_function, compute_metrics\n",
    "import pandas as pd\n",
    "import numpy as np\n",
    "import matplotlib.pyplot as plt\n",
    "import seaborn as sns\n",
    "import nltk\n",
    "import re\n",
    "import mlflow\n",
    "import evaluate\n",
    "import os\n",
    "from collections import Counter\n",
    "from nltk.tokenize import word_tokenize, sent_tokenize\n",
    "from datasets import load_dataset, Dataset, DatasetDict\n",
    "\n",
    "from nltk.corpus import stopwords\n",
    "\n",
    "from nltk.stem import WordNetLemmatizer\n",
    "\n",
    "from transformers import (\n",
    "    AutoTokenizer,\n",
    "    AutoModelForSeq2SeqLM,\n",
    "    Seq2SeqTrainingArguments,\n",
    "    Seq2SeqTrainer,\n",
    "    DataCollatorForSeq2Seq,\n",
    "    pipeline,\n",
    "    set_seed,\n",
    "    EarlyStoppingCallback\n",
    ")\n",
    "from huggingface_hub import notebook_login\n",
    "\n",
    "# Download necessary NLTK data\n",
    "nltk.download('punkt', quiet=True)\n",
    "nltk.download('punkt_tab')\n",
    "nltk.download('stopwords', quiet=True)\n",
    "nltk.download('wordnet', quiet=True)\n",
    "\n",
    "# Set random seed for reproducibility\n",
    "set_seed(42)"
   ]
  },
  {
   "cell_type": "markdown",
   "metadata": {
    "id": "load_data"
   },
   "source": [
    "## 2. Dataset Loading and Initial Exploration\n",
    "\n",
    "**Dataset Source:** The dataset used is `top-10k-longest-abstracts.csv`.\n",
    "*This dataset is a subset derived from the 'saishshinde15/ResearchPapers-dataset-1000k' dataset available on hugging face, selecting the 10,000 abstracts with the greatest word count.*\n",
    "\n",
    "**Justification:** This dataset was chosen because it provides a substantial number of abstract-title pairs, focusing on longer abstracts which might pose a greater challenge for summarization models compared to shorter news articles. The domain (research papers) is consistent and relevant for generating meaningful titles."
   ]
  },
  {
   "cell_type": "code",
   "execution_count": null,
   "metadata": {},
   "outputs": [
    {
     "name": "stdout",
     "output_type": "stream",
     "text": [
      "Dataset loaded successfully. First 5 rows:\n",
      "                                            abstract  \\\n",
      "0  The method presented in Duarte and da Mota (20...   \n",
      "1  In a variety of research fields, primary data ...   \n",
      "2  The use of daily torpor and/or of multi-day to...   \n",
      "3  At the University of Georgia, two introductory...   \n",
      "4  Sequence labeling is the task of assigning a c...   \n",
      "\n",
      "                                               title  \n",
      "0  Finding first order differential invariants th...  \n",
      "1   Exploratory search in time-oriented primary data  \n",
      "2  The Gray Mouse Lemur: A Model for Studies of P...  \n",
      "3  Using an enhanced general-purpose language for...  \n",
      "4  Learning discriminative relational features fo...  \n"
     ]
    }
   ],
   "source": [
    "# Define the path to your dataset\n",
    "# Make sure this file is accessible in your Colab environment (e.g., uploaded or mounted from Drive)\n",
    "DATA_PATH = './data/top-10k-longest-abstracts.csv'\n",
    "\n",
    "if not os.path.exists(DATA_PATH):\n",
    "  raise FileNotFoundError(f\"Dataset file not found at {DATA_PATH}. Please upload it or update the path.\")\n",
    "\n",
    "df = pd.read_csv(DATA_PATH)\n",
    "print(\"Dataset loaded successfully. First 5 rows:\")\n",
    "print(df.head())"
   ]
  },
  {
   "cell_type": "markdown",
   "metadata": {
    "id": "eda_start"
   },
   "source": [
    "## 3. Dataset Analysis & Preprocessing (EDA)"
   ]
  },
  {
   "cell_type": "markdown",
   "metadata": {
    "id": "eda_checks"
   },
   "source": [
    "### 3.1 Basic Checks (Missing Values, Duplicates, Length)"
   ]
  },
  {
   "cell_type": "code",
   "execution_count": null,
   "metadata": {},
   "outputs": [
    {
     "name": "stdout",
     "output_type": "stream",
     "text": [
      "Total samples: 10000\n",
      "\n",
      "Missing values per column:\n",
      "abstract    0\n",
      "title       0\n",
      "dtype: int64\n",
      "\n",
      "Total samples after dropping NA: 10000\n",
      "\n",
      "Duplicate rows: 1\n",
      "Total samples after dropping duplicates: 9999\n",
      "\n",
      "Descriptive statistics for text lengths (words):\n",
      "       abstract_length  title_length\n",
      "count      9999.000000   9999.000000\n",
      "mean        379.038404     10.928693\n",
      "std         120.227163      4.265660\n",
      "min         157.000000      2.000000\n",
      "25%         316.000000      8.000000\n",
      "50%         342.000000     10.000000\n",
      "75%         392.000000     13.000000\n",
      "max        1914.000000     35.000000\n"
     ]
    }
   ],
   "source": [
    "text_analysis(df)"
   ]
  },
  {
   "cell_type": "code",
   "execution_count": null,
   "metadata": {},
   "outputs": [
    {
     "data": {
      "image/png": "[encoded data removed]",
      "text/plain": [
       "<Figure size 1200x600 with 2 Axes>"
      ]
     },
     "metadata": {},
     "output_type": "display_data"
    },
    {
     "name": "stdout",
     "output_type": "stream",
     "text": [
      "Chosen Max Input Length: 512\n",
      "Chosen Max Target Length: 32\n"
     ]
    }
   ],
   "source": [
    "plt.figure(figsize=(12, 6))\n",
    "\n",
    "plt.subplot(1, 2, 1)\n",
    "sns.histplot(df[\"abstract_length\"], bins=50, kde=True)\n",
    "plt.title(\"Abstract Length Distribution\")\n",
    "plt.xlabel(\"Words per Abstract\")\n",
    "\n",
    "plt.subplot(1, 2, 2)\n",
    "sns.histplot(df[\"title_length\"], bins=30, kde=True)\n",
    "plt.title(\"Title Length Distribution\")\n",
    "plt.xlabel(\"Words per Title\")\n",
    "\n",
    "plt.tight_layout()\n",
    "plt.show()\n",
    "\n",
    "# Justification for max_length parameters\n",
    "MAX_INPUT_LEN = 512 # Standard for many BERT-like models, captures most abstracts based on distribution\n",
    "MAX_TARGET_LEN = 32  # Covers vast majority of titles based on distribution (~99th percentile likely < 30)\n",
    "print(f\"Chosen Max Input Length: {MAX_INPUT_LEN}\")\n",
    "print(f\"Chosen Max Target Length: {MAX_TARGET_LEN}\")"
   ]
  },
  {
   "cell_type": "markdown",
   "metadata": {
    "id": "eda_compression"
   },
   "source": [
    "### 3.3 Compression Ratio"
   ]
  },
  {
   "cell_type": "code",
   "execution_count": null,
   "metadata": {},
   "outputs": [
    {
     "name": "stdout",
     "output_type": "stream",
     "text": [
      "Compression Ratio (Title Length / Abstract Length) Statistics:\n",
      "count    9999.000000\n",
      "mean        0.030806\n",
      "std         0.013854\n",
      "min         0.001447\n",
      "25%         0.020672\n",
      "50%         0.029316\n",
      "75%         0.039216\n",
      "max         0.104167\n",
      "Name: compression_ratio, dtype: float64\n"
     ]
    },
    {
     "data": {
      "image/png": "[encoded data removed]",
      "text/plain": [
       "<Figure size 700x400 with 1 Axes>"
      ]
     },
     "metadata": {},
     "output_type": "display_data"
    }
   ],
   "source": [
    "df[\"compression_ratio\"] = df[\"title_length\"] / df[\"abstract_length\"]\n",
    "print(\"Compression Ratio (Title Length / Abstract Length) Statistics:\")\n",
    "print(df[\"compression_ratio\"].describe())\n",
    "\n",
    "plt.figure(figsize=(7, 4))\n",
    "sns.histplot(df[\"compression_ratio\"], bins=30, kde=True)\n",
    "plt.title(\"Compression Ratio Distribution\")\n",
    "plt.show()"
   ]
  },
  {
   "cell_type": "markdown",
   "metadata": {
    "id": "eda_topwords"
   },
   "source": [
    "### 3.4 Common Words (Stopword Removal)"
   ]
  },
  {
   "cell_type": "code",
   "execution_count": null,
   "metadata": {},
   "outputs": [
    {
     "name": "stdout",
     "output_type": "stream",
     "text": [
      "Top 15 words in abstracts (after stopword removal):\n",
      "[('data', 12522), ('using', 9498), ('based', 7734), ('model', 7706), ('used', 7485), ('also', 7237), ('results', 7205), ('information', 6992), ('system', 6759), ('different', 6559), ('two', 6306), ('new', 5861), ('use', 5801), ('proposed', 5465), ('performance', 5451)]\n",
      "\n",
      "Top 15 words in titles (after stopword removal):\n",
      "[('using', 1020), ('data', 703), ('analysis', 617), ('networks', 515), ('based', 498), ('learning', 411), ('systems', 411), ('model', 406), ('approach', 376), ('system', 359), ('information', 330), ('network', 287), ('design', 284), ('study', 281), ('detection', 245)]\n"
     ]
    }
   ],
   "source": [
    "stop_words = set(stopwords.words(\"english\"))\n",
    "\n",
    "\n",
    "\n",
    "print(\"Top 15 words in abstracts (after stopword removal):\")\n",
    "print(get_top_words(df[\"abstract\"],stop_words, n=15))\n",
    "print(\"\\nTop 15 words in titles (after stopword removal):\")\n",
    "print(get_top_words(df[\"title\"], stop_words, n=15))"
   ]
  },
  {
   "cell_type": "markdown",
   "metadata": {
    "id": "eda_similarity"
   },
   "source": [
    "### 3.5 Abstract-Title Similarity (TF-IDF Cosine & Jaccard)"
   ]
  },
  {
   "cell_type": "code",
   "execution_count": null,
   "metadata": {},
   "outputs": [
    {
     "name": "stdout",
     "output_type": "stream",
     "text": [
      "Avg. TF-IDF Cosine Similarity: 0.3935513680148095\n",
      "Avg. Jaccard Similarity: 0.048652513397344346\n"
     ]
    }
   ],
   "source": [
    "# TF-IDF Cosine Similarity\n",
    "\n",
    "print(\"Avg. TF-IDF Cosine Similarity:\", np.mean(tf_idf_cosine_sim(df)))\n",
    "\n",
    "# Jaccard Similarity\n",
    "\n",
    "\n",
    "\n",
    "df[\"jaccard_similarity\"] = df.apply(lambda x: jaccard_similarity(x[\"abstract\"], x[\"title\"]), axis=1)\n",
    "print(\"Avg. Jaccard Similarity:\", df[\"jaccard_similarity\"].mean())"
   ]
  },
  {
   "cell_type": "markdown",
   "metadata": {
    "id": "eda_cleaning_unused"
   },
   "source": [
    "### 3.6 Text Cleaning Examples (Optional - Not Used in Final Tokenization)\n",
    "\n",
    "The following cells demonstrate potential cleaning steps like removing URLs, HTML, special characters, handling rare words, and lemmatization.\n",
    "**Note:** For simplicity and to avoid potential tokenization issues with the pre-trained models, these specific steps (creating `cleaned_article`, `processed_article`, `lemmatized_article`) were **not** applied to the text before feeding it into the final mT5 and BART tokenizers in this notebook. The tokenizers handle much of the necessary normalization inherently. These cells are kept for illustrative/EDA purposes."
   ]
  },
  {
   "cell_type": "code",
   "execution_count": null,
   "metadata": {},
   "outputs": [
    {
     "name": "stdout",
     "output_type": "stream",
     "text": [
      "Original Abstract Example:\n",
      "The method presented in Duarte and da Mota (2009) and Avellar et al. (2014) to search for first order invariants of second order ordinary differential equation (2ODEs) makes use of the so called Darboux polynomials  . The main difficulty involved in this process is the determination of the Darboux polynomials, which is computationally very expensive. Here, we introduce an optional argument in the main routine that enables a shortcut in the calculations through the use of the SS-function associat\n",
      "\n",
      "Cleaned Abstract Example:\n",
      "the method presented in duarte and da mota 2009 and avellar et al. 2014 to search for first order invariants of second order ordinary differential equation 2odes makes use of the so called darboux polynomials . the main difficulty involved in this process is the determination of the darboux polynomials, which is computationally very expensive. here, we introduce an optional argument in the main routine that enables a shortcut in the calculations through the use of the ss-function associat\n"
     ]
    }
   ],
   "source": [
    "\n",
    "#Cleaning process\n",
    "\n",
    "text = str(df['abstract'].iloc[0]).lower()[:500]\n",
    "text = re.sub(r'http\\S+|www\\S+|https\\S+', '', text, flags=re.MULTILINE)\n",
    "text = re.sub(r'<.*?>', '', text)\n",
    "text = re.sub(r'[^a-zA-Z0-9\\s.,!?-]', '', text)\n",
    "text = ' '.join(text.split())\n",
    "\n",
    "print(\"Original Abstract Example:\")\n",
    "print(df['abstract'].iloc[0][:500])\n",
    "print(\"\\nCleaned Abstract Example:\")\n",
    "print(text)"
   ]
  },
  {
   "cell_type": "code",
   "execution_count": null,
   "metadata": {},
   "outputs": [
    {
     "name": "stdout",
     "output_type": "stream",
     "text": [
      "\n",
      "Example with Rare Words Replaced:\n",
      "the method presented in duarte and da mota (2009) and <UNK> et al. (2014) to search for first order invariants of second order ordinary differential equation <UNK> makes use of the so called darboux polynomials . the main difficulty involved in this process is the determination of the darboux polynomials, which is computationally very expensive. here, we introduce an optional argument in the main routine that enables a shortcut in the calculations through the use of the ss-function associated wi\n"
     ]
    }
   ],
   "source": [
    "# Example: Rare Word Handling (<UNK>)\n",
    "word_counts = Counter()\n",
    "df['abstract'].astype(str).str.lower().str.split().apply(word_counts.update)\n",
    "\n",
    "RARE_THRESHOLD = 3\n",
    "rare_words = {word for word, count in word_counts.items() if count < RARE_THRESHOLD}\n",
    "\n",
    "def replace_rare_words_example(text):\n",
    "    return ' '.join(['<UNK>' if word in rare_words else word for word in str(text).lower().split()])\n",
    "\n",
    "print(\"\\nExample with Rare Words Replaced:\")\n",
    "print(replace_rare_words_example(df['abstract'].iloc[0])[:500])"
   ]
  },
  {
   "cell_type": "code",
   "execution_count": null,
   "metadata": {},
   "outputs": [
    {
     "name": "stdout",
     "output_type": "stream",
     "text": [
      "\n",
      "Lemmatized Abstract Example:\n",
      "the method presented in duarte and da mota ( 2009 ) and avellar et al . ( 2014 ) to search for first order invariant of second order ordinary differential equation ( 2odes ) make use of the so called darboux polynomial . the main difficulty involved in this process is the determination of the darboux polynomial , which is computationally very expensive . here , we introduce an optional argument in the main routine that enables a shortcut in the calculation through the use of the ss-function asso\n"
     ]
    }
   ],
   "source": [
    "# Example: Lemmatization\n",
    "lemmatizer = WordNetLemmatizer()\n",
    "\n",
    "def lemmatize_text_example(text):\n",
    "    # Basic tokenization\n",
    "    tokens = word_tokenize(str(text).lower())\n",
    "    return ' '.join([lemmatizer.lemmatize(word) for word in tokens])\n",
    "\n",
    "print(\"\\nLemmatized Abstract Example:\")\n",
    "print(lemmatize_text_example(df['abstract'].iloc[0])[:500])"
   ]
  },
  {
   "cell_type": "markdown",
   "metadata": {
    "id": "prepare_hf_dataset"
   },
   "source": [
    "### 3.7 Preparing the Hugging Face Dataset\n",
    "Convertion of the pandas DataFrame into the Hugging Face `Dataset` format and train/test split."
   ]
  },
  {
   "cell_type": "code",
   "execution_count": null,
   "metadata": {},
   "outputs": [
    {
     "data": {
      "application/vnd.jupyter.widget-view+json": {
       "model_id": "e5483735a9404a35a7e145f68b066e1f",
       "version_major": 2,
       "version_minor": 0
      },
      "text/plain": [
       "Filter:   0%|          | 0/9999 [00:00<?, ? examples/s]"
      ]
     },
     "metadata": {},
     "output_type": "display_data"
    },
    {
     "name": "stdout",
     "output_type": "stream",
     "text": [
      "Hugging Face Dataset structure:\n",
      "DatasetDict({\n",
      "    train: Dataset({\n",
      "        features: ['abstract', 'title', '__index_level_0__'],\n",
      "        num_rows: 7999\n",
      "    })\n",
      "    test: Dataset({\n",
      "        features: ['abstract', 'title', '__index_level_0__'],\n",
      "        num_rows: 2000\n",
      "    })\n",
      "})\n",
      "\n",
      "Example training abstract:\n",
      "Block-based motion estimation is widely used for exploiting temporal redundancies in arbitrarily shaped video objects, which is computationally the most demanding part within the MPEG-4 standard. One of the main differences between MPEG-4 video and the previously standardized video coding schemes is the support of arbitrarily shaped video objects, for which most of the existing fast motion estimation algorithms are not suitable. In MPEG-4, motion estimation is performed on two kinds of macroblocks (MBs): the boundary MB and the opaque MB. Since the motion activities in opaque MBs are highly correlated with the neighbouring boundary MBs, a new priority search algorithm (PSA) for motion estimation is proposed in this paper, which performs motion estimation on all boundary MBs first in contrast to the conventional raster-scanning approach. This search strategy works well if the motion vectors in the boundary MBs truly represent the moving video object. Consequently, the full search algorithm is applied to the boundary MB in order to ensure its accuracy. However, the computational burden of motion estimation of the boundary MBs must be reduced. Fast search algorithms offered in the past tend to reduce the amount of computation by limiting the number of locations to be searched. Nearly all of these algorithms assume that the distortion function increases monotonically as the search location moves away from the global minimum. Unfortunately, this is usually not true in boundary MBs. We can reasonably assume that it is monotonic in a small neighbourhood around the global minimum. Consequently, one simple strategy, but perhaps the most efficient and reliable one, is to place the checking point as close as possible to the global minimum. In this paper, we also propose a fast search algorithm, which incorporates the binary alpha-plane to predict accurately the motion vectors of boundary MBs such that these motion vectors can be used in the PSA. Experimental results show that, when compared to conventional methods, our approach requires low computational complexity and provides significant improvement in terms of accuracy in motion-compensated video object planes.\n"
     ]
    }
   ],
   "source": [
    "# Selection relevant columns\n",
    "final_df = df[['abstract', 'title']].copy()\n",
    "final_df.dropna(inplace=True)\n",
    "# Few verifications\n",
    "final_df['abstract'] = final_df['abstract'].astype(str)\n",
    "final_df['title'] = final_df['title'].astype(str)\n",
    "\n",
    "# Convertion to Hugging Face Dataset\n",
    "hf_dataset = Dataset.from_pandas(final_df)\n",
    "\n",
    "# Filtering out potentially empty entries if any slipped through\n",
    "hf_dataset = hf_dataset.filter(lambda x: len(x[\"abstract\"].split()) > 2 and len(x[\"title\"].split()) > 0)\n",
    "\n",
    "# Splitting into training and testing sets (80/20 split)\n",
    "train_test_split = hf_dataset.train_test_split(test_size=0.2, seed=42) # Use seed for reproducibility\n",
    "\n",
    "# Creation of the final DatasetDict\n",
    "hf_datasets = DatasetDict({\n",
    "    \"train\": train_test_split[\"train\"],\n",
    "    \"test\": train_test_split[\"test\"]\n",
    "})\n",
    "\n",
    "print(\"Hugging Face Dataset structure:\")\n",
    "print(hf_datasets)\n",
    "print(\"\\nExample training abstract:\")\n",
    "print(hf_datasets[\"train\"][0][\"abstract\"])"
   ]
  },
  {
   "cell_type": "markdown",
   "metadata": {
    "id": "baseline_model"
   },
   "source": [
    "## 4. Baseline Model: Lead-3\n",
    "As example, we establish a simple baseline by taking the first three sentences of the abstract as the summary and evaluate using ROUGE."
   ]
  },
  {
   "cell_type": "code",
   "execution_count": null,
   "metadata": {},
   "outputs": [
    {
     "name": "stderr",
     "output_type": "stream",
     "text": [
      "/usr/local/lib/python3.11/dist-packages/huggingface_hub/utils/_auth.py:94: UserWarning: \n",
      "The secret `HF_TOKEN` does not exist in your Colab secrets.\n",
      "To authenticate with the Hugging Face Hub, create a token in your settings tab (https://huggingface.co/settings/tokens), set it as secret in your Google Colab and restart your session.\n",
      "You will be able to reuse this secret in all of your notebooks.\n",
      "Please note that authentication is recommended but still optional to access public models or datasets.\n",
      "  warnings.warn(\n"
     ]
    },
    {
     "data": {
      "application/vnd.jupyter.widget-view+json": {
       "model_id": "a185cc615d2f44b38c89f42ba3acedef",
       "version_major": 2,
       "version_minor": 0
      },
      "text/plain": [
       "Downloading builder script:   0%|          | 0.00/6.27k [00:00<?, ?B/s]"
      ]
     },
     "metadata": {},
     "output_type": "display_data"
    }
   ],
   "source": [
    "rouge_score = evaluate.load(\"rouge\")"
   ]
  },
  {
   "cell_type": "code",
   "execution_count": null,
   "metadata": {},
   "outputs": [
    {
     "name": "stdout",
     "output_type": "stream",
     "text": [
      "Example Lead-3 Summary:\n",
      "An added-mass partitioned (AMP) algorithm is described for solving fluid-structure interaction (FSI) problems coupling incompressible flows with thin elastic structures undergoing finite deformations.\n",
      "The new AMP scheme is fully second-order accurate and stable, without sub-time-step iterations, even for very light structures when added-mass effects are strong.\n",
      "The fluid, governed by the incompressible Navier-Stokes equations, is solved in velocity-pressure form using a fractional-step method; large deformations are treated with a mixed Eulerian-Lagrangian approach on deforming composite grids.\n"
     ]
    }
   ],
   "source": [
    "#Example of evaluation of the summarized text with the rouge score using the Lead-3 (3 first sentences)\n",
    "\n",
    "print(\"Example Lead-3 Summary:\")\n",
    "print(lead_3_summary(hf_datasets[\"test\"][1][\"abstract\"]))"
   ]
  },
  {
   "cell_type": "code",
   "execution_count": null,
   "metadata": {},
   "outputs": [
    {
     "name": "stdout",
     "output_type": "stream",
     "text": [
      "Evaluating Lead-3 baseline...\n",
      "\n",
      "Baseline Lead-3 ROUGE Scores:\n",
      "{'rouge1': 15.96, 'rouge2': 6.21, 'rougeL': 12.39, 'rougeLsum': 13.82}\n"
     ]
    }
   ],
   "source": [
    "print(\"Evaluating Lead-3 baseline...\")\n",
    "baseline_score = evaluate_baseline(hf_datasets[\"test\"], rouge_score)\n",
    "rouge_names = [\"rouge1\", \"rouge2\", \"rougeL\", \"rougeLsum\"]\n",
    "baseline_rouge_dict = dict((rn, round(baseline_score[rn] * 100, 2)) for rn in rouge_names)\n",
    "\n",
    "print(\"\\nBaseline Lead-3 ROUGE Scores:\")\n",
    "print(baseline_rouge_dict)"
   ]
  },
  {
   "cell_type": "markdown",
   "metadata": {
    "id": "mt5_section"
   },
   "source": [
    "## 5. Model Fine-tuning: mT5-small\n",
    "\n",
    "**Model Choice Justification:** `google/mt5-small` (Multilingual T5) is chosen as the first model. T5 models frame NLP tasks as text-to-text problems, which is suitable for summarization. While mT5 is multilingual, it often performs reasonably well on English tasks and provides a good starting point. The 'small' version is selected due to computational resource constraints (Colab T4 GPU for example). Its performance will be compared against a BART model.\n",
    "\n",
    "**Hyperparameter Justification:** The learning rate (5.6e-5), batch size (8), and weight decay (0.01) are common starting points for fine-tuning T5-like models. The number of epochs (8) is chosen to allow the model sufficient time to learn, with early stopping potentially used if validation performance plateaus (although not explicitly added here for simplicity, it's a good practice). These are initial values and could be further tuned."
   ]
  },
  {
   "cell_type": "code",
   "execution_count": null,
   "metadata": {},
   "outputs": [
    {
     "data": {
      "application/vnd.jupyter.widget-view+json": {
       "model_id": "fa0c5f1258b6408caa898cb184064494",
       "version_major": 2,
       "version_minor": 0
      },
      "text/plain": [
       "tokenizer_config.json:   0%|          | 0.00/82.0 [00:00<?, ?B/s]"
      ]
     },
     "metadata": {},
     "output_type": "display_data"
    },
    {
     "data": {
      "application/vnd.jupyter.widget-view+json": {
       "model_id": "cdeaab82b8b0438ba7d118a049484c07",
       "version_major": 2,
       "version_minor": 0
      },
      "text/plain": [
       "config.json:   0%|          | 0.00/553 [00:00<?, ?B/s]"
      ]
     },
     "metadata": {},
     "output_type": "display_data"
    },
    {
     "data": {
      "application/vnd.jupyter.widget-view+json": {
       "model_id": "c055014d04b64494afed3ebb2aef7800",
       "version_major": 2,
       "version_minor": 0
      },
      "text/plain": [
       "spiece.model:   0%|          | 0.00/4.31M [00:00<?, ?B/s]"
      ]
     },
     "metadata": {},
     "output_type": "display_data"
    },
    {
     "data": {
      "application/vnd.jupyter.widget-view+json": {
       "model_id": "9c6757e2a8364080ab23f8273b4daa41",
       "version_major": 2,
       "version_minor": 0
      },
      "text/plain": [
       "special_tokens_map.json:   0%|          | 0.00/99.0 [00:00<?, ?B/s]"
      ]
     },
     "metadata": {},
     "output_type": "display_data"
    },
    {
     "name": "stderr",
     "output_type": "stream",
     "text": [
      "You are using the default legacy behaviour of the <class 'transformers.models.t5.tokenization_t5.T5Tokenizer'>. This is expected, and simply means that the `legacy` (previous) behavior will be used so nothing changes for you. If you want to use the new behaviour, set `legacy=False`. This should only be set if you understand what it means, and thoroughly read the reason why this was added as explained in https://github.com/huggingface/transformers/pull/24565\n",
      "/usr/local/lib/python3.11/dist-packages/transformers/convert_slow_tokenizer.py:559: UserWarning: The sentencepiece tokenizer that you are converting to a fast tokenizer uses the byte fallback option which is not implemented in the fast tokenizers. In practice this means that the fast version of the tokenizer can produce unknown tokens whereas the sentencepiece version would have converted these unknown tokens into a sequence of byte tokens matching the original piece of text.\n",
      "  warnings.warn(\n"
     ]
    },
    {
     "data": {
      "application/vnd.jupyter.widget-view+json": {
       "model_id": "d0b65df111454e06b303d237a9deaba0",
       "version_major": 2,
       "version_minor": 0
      },
      "text/plain": [
       "pytorch_model.bin:   0%|          | 0.00/1.20G [00:00<?, ?B/s]"
      ]
     },
     "metadata": {},
     "output_type": "display_data"
    },
    {
     "data": {
      "application/vnd.jupyter.widget-view+json": {
       "model_id": "621eac8e44bf47588891250e8150f6a3",
       "version_major": 2,
       "version_minor": 0
      },
      "text/plain": [
       "generation_config.json:   0%|          | 0.00/147 [00:00<?, ?B/s]"
      ]
     },
     "metadata": {},
     "output_type": "display_data"
    }
   ],
   "source": [
    "# --- mT5 Configuration ---\n",
    "mt5_model_checkpoint = \"google/mt5-small\"\n",
    "mt5_tokenizer = AutoTokenizer.from_pretrained(mt5_model_checkpoint)\n",
    "mt5_model = AutoModelForSeq2SeqLM.from_pretrained(mt5_model_checkpoint)"
   ]
  },
  {
   "cell_type": "code",
   "execution_count": null,
   "metadata": {},
   "outputs": [
    {
     "name": "stdout",
     "output_type": "stream",
     "text": [
      "Tokenizing dataset for mT5...\n"
     ]
    },
    {
     "data": {
      "application/vnd.jupyter.widget-view+json": {
       "model_id": "e984b62ec33649bb9f78d4174e99c1e7",
       "version_major": 2,
       "version_minor": 0
      },
      "text/plain": [
       "Map:   0%|          | 0/7999 [00:00<?, ? examples/s]"
      ]
     },
     "metadata": {},
     "output_type": "display_data"
    },
    {
     "data": {
      "application/vnd.jupyter.widget-view+json": {
       "model_id": "b004b97bdcff498b8b0d97d826954577",
       "version_major": 2,
       "version_minor": 0
      },
      "text/plain": [
       "Map:   0%|          | 0/2000 [00:00<?, ? examples/s]"
      ]
     },
     "metadata": {},
     "output_type": "display_data"
    },
    {
     "name": "stdout",
     "output_type": "stream",
     "text": [
      "mT5 Tokenization complete.\n",
      "DatasetDict({\n",
      "    train: Dataset({\n",
      "        features: ['input_ids', 'attention_mask', 'labels'],\n",
      "        num_rows: 7999\n",
      "    })\n",
      "    test: Dataset({\n",
      "        features: ['input_ids', 'attention_mask', 'labels'],\n",
      "        num_rows: 2000\n",
      "    })\n",
      "})\n"
     ]
    }
   ],
   "source": [
    "print(\"Tokenizing dataset for mT5...\")\n",
    "mt5_tokenized_datasets = hf_datasets.map(\n",
    "    preprocess_function,\n",
    "    batched=True,\n",
    "    fn_kwargs={'tokenizer': mt5_tokenizer, 'max_input_length': MAX_INPUT_LEN, 'max_target_length': MAX_TARGET_LEN},\n",
    "    remove_columns=hf_datasets[\"train\"].column_names # Remove original text columns\n",
    ")\n",
    "print(\"mT5 Tokenization complete.\")\n",
    "print(mt5_tokenized_datasets)"
   ]
  },
  {
   "cell_type": "code",
   "execution_count": null,
   "metadata": {},
   "outputs": [],
   "source": [
    "# Data collator\n",
    "mt5_data_collator = DataCollatorForSeq2Seq(mt5_tokenizer, model=mt5_model)"
   ]
  },
  {
   "cell_type": "markdown",
   "metadata": {
    "id": "login_hf"
   },
   "source": [
    "### 5.1 Hugging Face Hub Login (Optional but recommended for pushing model)\n",
    "##!! Use a hugging face access token !!"
   ]
  },
  {
   "cell_type": "code",
   "execution_count": null,
   "metadata": {},
   "outputs": [
    {
     "data": {
      "application/vnd.jupyter.widget-view+json": {
       "model_id": "4a9e3fdeea5a45bda53a12035b80b4a9",
       "version_major": 2,
       "version_minor": 0
      },
      "text/plain": [
       "VBox(children=(HTML(value='<center> <img\\nsrc=https://huggingface.co/front/assets/huggingface_logo-noborder.sv…"
      ]
     },
     "metadata": {},
     "output_type": "display_data"
    }
   ],
   "source": [
    "notebook_login()"
   ]
  },
  {
   "cell_type": "markdown",
   "metadata": {
    "id": "setup_mlflow"
   },
   "source": [
    "## 6. Experiment Tracking Setup (MLflow)\n",
    "We use MLflow to log parameters and metrics for comparing the mT5 and BART experiments."
   ]
  },
  {
   "cell_type": "code",
   "execution_count": null,
   "metadata": {},
   "outputs": [
    {
     "name": "stderr",
     "output_type": "stream",
     "text": [
      "2025/05/04 13:07:09 INFO mlflow.tracking.fluent: Experiment with name 'Research Paper Summarization - mT5 vs BART' does not exist. Creating a new experiment.\n"
     ]
    }
   ],
   "source": [
    "mlflow_experiment_name = \"Research Paper Summarization - mT5 vs BART\"\n",
    "mlflow.set_experiment(mlflow_experiment_name)\n",
    "\n",
    "# Function to get training arguments\n",
    "def get_training_args(model_name_suffix, model_output_dir_base=\"./results\"):\n",
    "    model_output_dir = f\"{model_output_dir_base}/{model_name_suffix}-finetuned-research-papers-XX\"\n",
    "    # Batch size: the choice here is common and reasonable\n",
    "    effective_batch_size = 8\n",
    "    num_train_epochs = 4  # Reduced epochs for faster comparison run\n",
    "    logging_steps = max(10, len(mt5_tokenized_datasets[\"train\"]) // (effective_batch_size * 2))  # Log twice per epoch\n",
    "    eval_steps = logging_steps  # Evaluate at the same frequency as logging\n",
    "    save_steps = eval_steps  # Align save steps with eval steps (or use a multiple, e.g., `eval_steps * 2`)\n",
    "\n",
    "    print(f\"Logging/Eval steps for {model_name_suffix}: {logging_steps}\")\n",
    "\n",
    "    return Seq2SeqTrainingArguments(\n",
    "        output_dir=model_output_dir,\n",
    "        eval_strategy=\"steps\", # Evaluate periodically\n",
    "        eval_steps=eval_steps,\n",
    "        logging_strategy=\"steps\",\n",
    "        logging_steps=logging_steps,\n",
    "        save_strategy=\"steps\",\n",
    "        save_steps=save_steps,\n",
    "        learning_rate=5.6e-5,\n",
    "        per_device_train_batch_size=effective_batch_size,\n",
    "        per_device_eval_batch_size=effective_batch_size,\n",
    "        weight_decay=0.01,\n",
    "        save_total_limit=2,\n",
    "        num_train_epochs=num_train_epochs,\n",
    "        predict_with_generate=True,\n",
    "        fp16=False, # Set to True if GPU supports it and CUDA is properly set up\n",
    "        push_to_hub=False, # Control push manually after training\n",
    "        load_best_model_at_end=True,  # Load best model based on eval loss\n",
    "        metric_for_best_model=\"eval_loss\", # Can also use 'rouge2', 'rougeL', etc.\n",
    "        greater_is_better=False, # For loss, lower is better\n",
    "        report_to=[\"mlflow\"], # Report to mlflow\n",
    "        run_name=f\"{model_name_suffix}-run\" # Set run name for MLflow/WandB\n",
    "    )"
   ]
  },
  {
   "cell_type": "markdown",
   "metadata": {
    "id": "mt5_train_eval"
   },
   "source": [
    "### 5.2 Training and Evaluating mT5-small"
   ]
  },
  {
   "cell_type": "code",
   "execution_count": null,
   "metadata": {},
   "outputs": [
    {
     "name": "stdout",
     "output_type": "stream",
     "text": [
      "Logging/Eval steps for mt5-small-finetune: 499\n"
     ]
    },
    {
     "name": "stderr",
     "output_type": "stream",
     "text": [
      "<ipython-input-20-7b1fc6918cd0>:4: FutureWarning: `tokenizer` is deprecated and will be removed in version 5.0.0 for `Seq2SeqTrainer.__init__`. Use `processing_class` instead.\n",
      "  mt5_trainer = Seq2SeqTrainer(\n"
     ]
    },
    {
     "name": "stdout",
     "output_type": "stream",
     "text": [
      "\n",
      "Starting mT5 Training...\n"
     ]
    },
    {
     "name": "stderr",
     "output_type": "stream",
     "text": [
      "Passing a tuple of `past_key_values` is deprecated and will be removed in Transformers v4.48.0. You should pass an instance of `EncoderDecoderCache` instead, e.g. `past_key_values=EncoderDecoderCache.from_legacy_cache(past_key_values)`.\n"
     ]
    },
    {
     "data": {
      "text/html": [
       "\n",
       "    <div>\n",
       "      \n",
       "      <progress value='4000' max='4000' style='width:300px; height:20px; vertical-align: middle;'></progress>\n",
       "      [4000/4000 57:36, Epoch 4/4]\n",
       "    </div>\n",
       "    <table border=\"1\" class=\"dataframe\">\n",
       "  <thead>\n",
       " <tr style=\"text-align: left;\">\n",
       "      <th>Step</th>\n",
       "      <th>Training Loss</th>\n",
       "      <th>Validation Loss</th>\n",
       "      <th>Rouge1</th>\n",
       "      <th>Rouge2</th>\n",
       "      <th>Rougel</th>\n",
       "      <th>Rougelsum</th>\n",
       "      <th>Gen Len</th>\n",
       "    </tr>\n",
       "  </thead>\n",
       "  <tbody>\n",
       "    <tr>\n",
       "      <td>499</td>\n",
       "      <td>6.654600</td>\n",
       "      <td>3.014496</td>\n",
       "      <td>27.724900</td>\n",
       "      <td>12.646700</td>\n",
       "      <td>24.973500</td>\n",
       "      <td>24.972800</td>\n",
       "      <td>12.427500</td>\n",
       "    </tr>\n",
       "    <tr>\n",
       "      <td>998</td>\n",
       "      <td>3.793500</td>\n",
       "      <td>2.780435</td>\n",
       "      <td>35.801300</td>\n",
       "      <td>17.049800</td>\n",
       "      <td>31.329500</td>\n",
       "      <td>31.378300</td>\n",
       "      <td>15.984000</td>\n",
       "    </tr>\n",
       "    <tr>\n",
       "      <td>1497</td>\n",
       "      <td>3.461400</td>\n",
       "      <td>2.681823</td>\n",
       "      <td>35.721300</td>\n",
       "      <td>17.124300</td>\n",
       "      <td>31.495600</td>\n",
       "      <td>31.552000</td>\n",
       "      <td>15.348500</td>\n",
       "    </tr>\n",
       "    <tr>\n",
       "      <td>1996</td>\n",
       "      <td>3.295400</td>\n",
       "      <td>2.648584</td>\n",
       "      <td>35.596100</td>\n",
       "      <td>17.253500</td>\n",
       "      <td>31.326300</td>\n",
       "      <td>31.411000</td>\n",
       "      <td>15.857000</td>\n",
       "    </tr>\n",
       "    <tr>\n",
       "      <td>2495</td>\n",
       "      <td>3.193200</td>\n",
       "      <td>2.629969</td>\n",
       "      <td>36.529600</td>\n",
       "      <td>17.849100</td>\n",
       "      <td>32.192300</td>\n",
       "      <td>32.262800</td>\n",
       "      <td>15.892500</td>\n",
       "    </tr>\n",
       "    <tr>\n",
       "      <td>2994</td>\n",
       "      <td>3.150800</td>\n",
       "      <td>2.612149</td>\n",
       "      <td>36.456500</td>\n",
       "      <td>17.681300</td>\n",
       "      <td>32.013000</td>\n",
       "      <td>32.079600</td>\n",
       "      <td>16.042500</td>\n",
       "    </tr>\n",
       "    <tr>\n",
       "      <td>3493</td>\n",
       "      <td>3.078200</td>\n",
       "      <td>2.609410</td>\n",
       "      <td>36.406400</td>\n",
       "      <td>17.720800</td>\n",
       "      <td>31.975700</td>\n",
       "      <td>32.042100</td>\n",
       "      <td>16.031500</td>\n",
       "    </tr>\n",
       "    <tr>\n",
       "      <td>3992</td>\n",
       "      <td>3.100500</td>\n",
       "      <td>2.599756</td>\n",
       "      <td>36.583100</td>\n",
       "      <td>17.822200</td>\n",
       "      <td>32.059100</td>\n",
       "      <td>32.142600</td>\n",
       "      <td>16.041500</td>\n",
       "    </tr>\n",
       "  </tbody>\n",
       "</table><p>"
      ],
      "text/plain": [
       "<IPython.core.display.HTML object>"
      ]
     },
     "metadata": {},
     "output_type": "display_data"
    },
    {
     "name": "stderr",
     "output_type": "stream",
     "text": [
      "There were missing keys in the checkpoint model loaded: ['encoder.embed_tokens.weight', 'decoder.embed_tokens.weight'].\n"
     ]
    },
    {
     "name": "stdout",
     "output_type": "stream",
     "text": [
      "\n",
      "Evaluating mT5 final model...\n"
     ]
    },
    {
     "data": {
      "text/html": [
       "\n",
       "    <div>\n",
       "      \n",
       "      <progress value='250' max='250' style='width:300px; height:20px; vertical-align: middle;'></progress>\n",
       "      [250/250 02:20]\n",
       "    </div>\n",
       "    "
      ],
      "text/plain": [
       "<IPython.core.display.HTML object>"
      ]
     },
     "metadata": {},
     "output_type": "display_data"
    },
    {
     "name": "stdout",
     "output_type": "stream",
     "text": [
      "mT5 Evaluation Results:\n",
      "{'eval_loss': 2.5997564792633057, 'eval_rouge1': 36.5831, 'eval_rouge2': 17.8222, 'eval_rougeL': 32.0591, 'eval_rougeLsum': 32.1426, 'eval_gen_len': 16.0415, 'eval_runtime': 143.1323, 'eval_samples_per_second': 13.973, 'eval_steps_per_second': 1.747, 'epoch': 4.0}\n"
     ]
    },
    {
     "data": {
      "application/vnd.jupyter.widget-view+json": {
       "model_id": "78de38ebdf754896a119d3c4d0cacdca",
       "version_major": 2,
       "version_minor": 0
      },
      "text/plain": [
       "training_args.bin:   0%|          | 0.00/5.56k [00:00<?, ?B/s]"
      ]
     },
     "metadata": {},
     "output_type": "display_data"
    },
    {
     "name": "stdout",
     "output_type": "stream",
     "text": [
      "Best mT5 model saved to ./results/mt5-small-finetune-best\n"
     ]
    }
   ],
   "source": [
    "mt5_run_name = \"mt5-small-finetune\"\n",
    "mt5_args = get_training_args(mt5_run_name)\n",
    "\n",
    "mt5_trainer = Seq2SeqTrainer(\n",
    "    model=mt5_model,\n",
    "    args=mt5_args,\n",
    "    train_dataset=mt5_tokenized_datasets[\"train\"],\n",
    "    eval_dataset=mt5_tokenized_datasets[\"test\"],\n",
    "    data_collator=mt5_data_collator,\n",
    "    tokenizer=mt5_tokenizer,\n",
    "    compute_metrics=lambda p: compute_metrics(p, mt5_tokenizer, rouge_score),\n",
    ")\n",
    "\n",
    "print(\"\\nStarting mT5 Training...\")\n",
    "mt5_trainer.train()\n",
    "\n",
    "print(\"\\nEvaluating mT5 final model...\")\n",
    "mt5_eval_results = mt5_trainer.evaluate()\n",
    "print(\"mT5 Evaluation Results:\")\n",
    "print(mt5_eval_results)\n",
    "\n",
    "mt5_trainer.save_model(f\"./results/{mt5_run_name}-best\")\n",
    "mt5_trainer.push_to_hub(commit_message=\"Training complete\", tags=\"summarization\")\n",
    "print(f\"Best mT5 model saved to ./results/{mt5_run_name}-best\")"
   ]
  },
  {
   "cell_type": "markdown",
   "metadata": {
    "id": "bart_section"
   },
   "source": [
    "## 7. Model Fine-tuning: BART-base\n",
    "\n",
    "**Model Choice Justification:** `facebook/bart-base` is chosen for comparison. BART is an encoder-decoder model specifically pre-trained on denoising objectives, making it highly effective for sequence generation tasks like summarization. The 'base' version is used for faster training and comparison within resource limits, although `bart-large-cnn` is a common stronger baseline specifically fine-tuned on CNN/DailyMail summarization.\n",
    "\n",
    "**Hyperparameter Justification:** The same hyperparameters (learning rate, batch size, weight decay, epochs) are used as for mT5 to allow for a more direct comparison, assuming these are reasonable starting points for BART as well. Further tuning specific to BART could yield better results."
   ]
  },
  {
   "cell_type": "code",
   "execution_count": null,
   "metadata": {},
   "outputs": [
    {
     "data": {
      "application/vnd.jupyter.widget-view+json": {
       "model_id": "d9c09dd78cbb4604be765e431417a34b",
       "version_major": 2,
       "version_minor": 0
      },
      "text/plain": [
       "config.json:   0%|          | 0.00/1.72k [00:00<?, ?B/s]"
      ]
     },
     "metadata": {},
     "output_type": "display_data"
    },
    {
     "data": {
      "application/vnd.jupyter.widget-view+json": {
       "model_id": "1a2d97614f444bfcae7c78781bb06695",
       "version_major": 2,
       "version_minor": 0
      },
      "text/plain": [
       "vocab.json:   0%|          | 0.00/899k [00:00<?, ?B/s]"
      ]
     },
     "metadata": {},
     "output_type": "display_data"
    },
    {
     "data": {
      "application/vnd.jupyter.widget-view+json": {
       "model_id": "fdb612da3b1a4592b1cae8f80fff29d5",
       "version_major": 2,
       "version_minor": 0
      },
      "text/plain": [
       "merges.txt:   0%|          | 0.00/456k [00:00<?, ?B/s]"
      ]
     },
     "metadata": {},
     "output_type": "display_data"
    },
    {
     "data": {
      "application/vnd.jupyter.widget-view+json": {
       "model_id": "2d2eb1d3db454bff9e8e5f440987e494",
       "version_major": 2,
       "version_minor": 0
      },
      "text/plain": [
       "tokenizer.json:   0%|          | 0.00/1.36M [00:00<?, ?B/s]"
      ]
     },
     "metadata": {},
     "output_type": "display_data"
    },
    {
     "data": {
      "application/vnd.jupyter.widget-view+json": {
       "model_id": "9d1d97d209e6470bb4e776736c3a8925",
       "version_major": 2,
       "version_minor": 0
      },
      "text/plain": [
       "model.safetensors:   0%|          | 0.00/558M [00:00<?, ?B/s]"
      ]
     },
     "metadata": {},
     "output_type": "display_data"
    }
   ],
   "source": [
    "# --- BART Configuration ---\n",
    "bart_model_checkpoint = \"facebook/bart-base\"\n",
    "bart_tokenizer = AutoTokenizer.from_pretrained(bart_model_checkpoint)\n",
    "bart_model = AutoModelForSeq2SeqLM.from_pretrained(bart_model_checkpoint)"
   ]
  },
  {
   "cell_type": "code",
   "execution_count": null,
   "metadata": {},
   "outputs": [
    {
     "name": "stdout",
     "output_type": "stream",
     "text": [
      "Tokenizing dataset for BART...\n"
     ]
    },
    {
     "data": {
      "application/vnd.jupyter.widget-view+json": {
       "model_id": "6317fd88ae93410b8dda4e17969188de",
       "version_major": 2,
       "version_minor": 0
      },
      "text/plain": [
       "Map:   0%|          | 0/7999 [00:00<?, ? examples/s]"
      ]
     },
     "metadata": {},
     "output_type": "display_data"
    },
    {
     "data": {
      "application/vnd.jupyter.widget-view+json": {
       "model_id": "41ee294f6114462d8044688e2bd806cf",
       "version_major": 2,
       "version_minor": 0
      },
      "text/plain": [
       "Map:   0%|          | 0/2000 [00:00<?, ? examples/s]"
      ]
     },
     "metadata": {},
     "output_type": "display_data"
    },
    {
     "name": "stdout",
     "output_type": "stream",
     "text": [
      "BART Tokenization complete.\n",
      "DatasetDict({\n",
      "    train: Dataset({\n",
      "        features: ['input_ids', 'attention_mask', 'labels'],\n",
      "        num_rows: 7999\n",
      "    })\n",
      "    test: Dataset({\n",
      "        features: ['input_ids', 'attention_mask', 'labels'],\n",
      "        num_rows: 2000\n",
      "    })\n",
      "})\n"
     ]
    }
   ],
   "source": [
    "print(\"Tokenizing dataset for BART...\")\n",
    "bart_tokenized_datasets = hf_datasets.map(\n",
    "    preprocess_function,\n",
    "    batched=True,\n",
    "    fn_kwargs={'tokenizer': bart_tokenizer, 'max_input_length': MAX_INPUT_LEN, 'max_target_length': MAX_TARGET_LEN},\n",
    "    remove_columns=hf_datasets[\"train\"].column_names # Removing original text columns\n",
    ")\n",
    "print(\"BART Tokenization complete.\")\n",
    "print(bart_tokenized_datasets)"
   ]
  },
  {
   "cell_type": "code",
   "execution_count": null,
   "metadata": {},
   "outputs": [],
   "source": [
    "# Data collator for BART\n",
    "bart_data_collator = DataCollatorForSeq2Seq(bart_tokenizer, model=bart_model)"
   ]
  },
  {
   "cell_type": "markdown",
   "metadata": {
    "id": "bart_train_eval"
   },
   "source": [
    "### 7.1 Training and Evaluating BART-base"
   ]
  },
  {
   "cell_type": "code",
   "execution_count": null,
   "metadata": {},
   "outputs": [
    {
     "name": "stdout",
     "output_type": "stream",
     "text": [
      "Logging/Eval steps for bart-base-finetune: 499\n",
      "\n",
      "Starting BART Training...\n"
     ]
    },
    {
     "name": "stderr",
     "output_type": "stream",
     "text": [
      "<ipython-input-26-4612f7ce3475>:4: FutureWarning: `tokenizer` is deprecated and will be removed in version 5.0.0 for `Seq2SeqTrainer.__init__`. Use `processing_class` instead.\n",
      "  bart_trainer = Seq2SeqTrainer(\n",
      "2025/05/04 14:56:07 ERROR mlflow.utils.async_logging.async_logging_queue: Run Id d751af44e2b148d187b93690a8e4bf98: Failed to log run data: Exception: Changing param values is not allowed. Param with key='logging_dir' was already logged with value='./results/bart-base-finetune-finetuned-research-papers-XX/runs/May04_14-23-30_fd5e47321c82' for run ID='d751af44e2b148d187b93690a8e4bf98'. Attempted logging new value './results/bart-base-finetune-finetuned-research-papers-XX/runs/May04_14-56-06_fd5e47321c82'.\n"
     ]
    },
    {
     "data": {
      "text/html": [
       "\n",
       "    <div>\n",
       "      \n",
       "      <progress value='4000' max='4000' style='width:300px; height:20px; vertical-align: middle;'></progress>\n",
       "      [4000/4000 1:00:09, Epoch 4/4]\n",
       "    </div>\n",
       "    <table border=\"1\" class=\"dataframe\">\n",
       "  <thead>\n",
       " <tr style=\"text-align: left;\">\n",
       "      <th>Step</th>\n",
       "      <th>Training Loss</th>\n",
       "      <th>Validation Loss</th>\n",
       "      <th>Rouge1</th>\n",
       "      <th>Rouge2</th>\n",
       "      <th>Rougel</th>\n",
       "      <th>Rougelsum</th>\n",
       "      <th>Gen Len</th>\n",
       "    </tr>\n",
       "  </thead>\n",
       "  <tbody>\n",
       "    <tr>\n",
       "      <td>499</td>\n",
       "      <td>1.561300</td>\n",
       "      <td>2.524658</td>\n",
       "      <td>42.969300</td>\n",
       "      <td>23.070200</td>\n",
       "      <td>38.021400</td>\n",
       "      <td>38.055100</td>\n",
       "      <td>15.122500</td>\n",
       "    </tr>\n",
       "    <tr>\n",
       "      <td>998</td>\n",
       "      <td>2.700600</td>\n",
       "      <td>2.368213</td>\n",
       "      <td>43.455900</td>\n",
       "      <td>23.468200</td>\n",
       "      <td>38.313500</td>\n",
       "      <td>38.367600</td>\n",
       "      <td>15.043500</td>\n",
       "    </tr>\n",
       "    <tr>\n",
       "      <td>1497</td>\n",
       "      <td>2.031400</td>\n",
       "      <td>2.393589</td>\n",
       "      <td>43.663300</td>\n",
       "      <td>23.931500</td>\n",
       "      <td>38.625000</td>\n",
       "      <td>38.683400</td>\n",
       "      <td>15.597500</td>\n",
       "    </tr>\n",
       "    <tr>\n",
       "      <td>1996</td>\n",
       "      <td>1.982000</td>\n",
       "      <td>2.358516</td>\n",
       "      <td>43.990600</td>\n",
       "      <td>23.635000</td>\n",
       "      <td>38.656000</td>\n",
       "      <td>38.694600</td>\n",
       "      <td>16.528500</td>\n",
       "    </tr>\n",
       "    <tr>\n",
       "      <td>2495</td>\n",
       "      <td>1.636100</td>\n",
       "      <td>2.405387</td>\n",
       "      <td>44.399200</td>\n",
       "      <td>23.934800</td>\n",
       "      <td>39.144800</td>\n",
       "      <td>39.207100</td>\n",
       "      <td>16.092500</td>\n",
       "    </tr>\n",
       "    <tr>\n",
       "      <td>2994</td>\n",
       "      <td>1.626100</td>\n",
       "      <td>2.374665</td>\n",
       "      <td>44.055200</td>\n",
       "      <td>23.947200</td>\n",
       "      <td>38.941300</td>\n",
       "      <td>38.999500</td>\n",
       "      <td>16.045000</td>\n",
       "    </tr>\n",
       "    <tr>\n",
       "      <td>3493</td>\n",
       "      <td>1.375600</td>\n",
       "      <td>2.423265</td>\n",
       "      <td>44.515400</td>\n",
       "      <td>24.256700</td>\n",
       "      <td>39.172600</td>\n",
       "      <td>39.208100</td>\n",
       "      <td>16.366000</td>\n",
       "    </tr>\n",
       "    <tr>\n",
       "      <td>3992</td>\n",
       "      <td>1.368300</td>\n",
       "      <td>2.426082</td>\n",
       "      <td>44.688200</td>\n",
       "      <td>24.349600</td>\n",
       "      <td>39.274600</td>\n",
       "      <td>39.307200</td>\n",
       "      <td>16.271000</td>\n",
       "    </tr>\n",
       "  </tbody>\n",
       "</table><p>"
      ],
      "text/plain": [
       "<IPython.core.display.HTML object>"
      ]
     },
     "metadata": {},
     "output_type": "display_data"
    },
    {
     "name": "stderr",
     "output_type": "stream",
     "text": [
      "/usr/local/lib/python3.11/dist-packages/transformers/modeling_utils.py:3339: UserWarning: Moving the following attributes in the config to the generation config: {'early_stopping': True, 'num_beams': 4, 'no_repeat_ngram_size': 3, 'forced_bos_token_id': 0}. You are seeing this warning because you've set generation parameters in the model config, as opposed to in the generation config.\n",
      "  warnings.warn(\n",
      "There were missing keys in the checkpoint model loaded: ['model.encoder.embed_tokens.weight', 'model.decoder.embed_tokens.weight', 'lm_head.weight'].\n"
     ]
    },
    {
     "name": "stdout",
     "output_type": "stream",
     "text": [
      "\n",
      "Evaluating BART final model...\n"
     ]
    },
    {
     "data": {
      "text/html": [
       "\n",
       "    <div>\n",
       "      \n",
       "      <progress value='250' max='250' style='width:300px; height:20px; vertical-align: middle;'></progress>\n",
       "      [250/250 02:42]\n",
       "    </div>\n",
       "    "
      ],
      "text/plain": [
       "<IPython.core.display.HTML object>"
      ]
     },
     "metadata": {},
     "output_type": "display_data"
    },
    {
     "name": "stdout",
     "output_type": "stream",
     "text": [
      "BART Evaluation Results:\n",
      "{'eval_loss': 2.358516216278076, 'eval_rouge1': 43.9906, 'eval_rouge2': 23.635, 'eval_rougeL': 38.656, 'eval_rougeLsum': 38.6946, 'eval_gen_len': 16.5285, 'eval_runtime': 165.3571, 'eval_samples_per_second': 12.095, 'eval_steps_per_second': 1.512, 'epoch': 4.0}\n"
     ]
    },
    {
     "data": {
      "application/vnd.jupyter.widget-view+json": {
       "model_id": "48f0ff0582fa462e920ccd81ffe8d01f",
       "version_major": 2,
       "version_minor": 0
      },
      "text/plain": [
       "Upload 2 LFS files:   0%|          | 0/2 [00:00<?, ?it/s]"
      ]
     },
     "metadata": {},
     "output_type": "display_data"
    },
    {
     "data": {
      "application/vnd.jupyter.widget-view+json": {
       "model_id": "7786c4679a854591b2b2f788b6a5bd4d",
       "version_major": 2,
       "version_minor": 0
      },
      "text/plain": [
       "model.safetensors:   0%|          | 0.00/558M [00:00<?, ?B/s]"
      ]
     },
     "metadata": {},
     "output_type": "display_data"
    },
    {
     "data": {
      "application/vnd.jupyter.widget-view+json": {
       "model_id": "b2f9580e6a214a14bb54d399db0b8721",
       "version_major": 2,
       "version_minor": 0
      },
      "text/plain": [
       "training_args.bin:   0%|          | 0.00/5.56k [00:00<?, ?B/s]"
      ]
     },
     "metadata": {},
     "output_type": "display_data"
    },
    {
     "name": "stdout",
     "output_type": "stream",
     "text": [
      "Best BART model saved to ./results/bart-base-finetune-best\n"
     ]
    }
   ],
   "source": [
    "bart_run_name = \"bart-base-finetune\"\n",
    "bart_args = get_training_args(bart_run_name)\n",
    "\n",
    "bart_trainer = Seq2SeqTrainer(\n",
    "    model=bart_model,\n",
    "    args=bart_args,\n",
    "    train_dataset=bart_tokenized_datasets[\"train\"],\n",
    "    eval_dataset=bart_tokenized_datasets[\"test\"],\n",
    "    data_collator=bart_data_collator,\n",
    "    tokenizer=bart_tokenizer,\n",
    "    compute_metrics=lambda p: compute_metrics(p, bart_tokenizer, rouge_score),\n",
    "\n",
    ")\n",
    "\n",
    "print(\"\\nStarting BART Training...\")\n",
    "bart_trainer.train()\n",
    "\n",
    "print(\"\\nEvaluating BART final model...\")\n",
    "bart_eval_results = bart_trainer.evaluate()\n",
    "print(\"BART Evaluation Results:\")\n",
    "print(bart_eval_results)\n",
    "\n",
    "# Saving the best model locally\n",
    "bart_trainer.save_model(f\"./results/{bart_run_name}-best\")\n",
    "bart_trainer.push_to_hub(f\"{bart_run_name}-best\")\n",
    "print(f\"Best BART model saved to ./results/{bart_run_name}-best\")"
   ]
  },
  {
   "cell_type": "code",
   "execution_count": null,
   "metadata": {},
   "outputs": [
    {
     "name": "stderr",
     "output_type": "stream",
     "text": [
      "No files have been modified since last commit. Skipping to prevent empty commit.\n",
      "WARNING:huggingface_hub.hf_api:No files have been modified since last commit. Skipping to prevent empty commit.\n"
     ]
    },
    {
     "data": {
      "application/vnd.google.colaboratory.intrinsic+json": {
       "type": "string"
      },
      "text/plain": [
       "CommitInfo(commit_url='https://huggingface.co/Mug3n24/bart-base-finetune-finetuned-research-papers-XX/commit/7a96e2122dd8106b0cf0281a0a592fe439f0de73', commit_message='bart-base-finetune-best', commit_description='', oid='7a96e2122dd8106b0cf0281a0a592fe439f0de73', pr_url=None, repo_url=RepoUrl('https://huggingface.co/Mug3n24/bart-base-finetune-finetuned-research-papers-XX', endpoint='https://huggingface.co', repo_type='model', repo_id='Mug3n24/bart-base-finetune-finetuned-research-papers-XX'), pr_revision=None, pr_num=None)"
      ]
     },
     "execution_count": 27,
     "metadata": {},
     "output_type": "execute_result"
    }
   ],
   "source": [
    "bart_trainer.push_to_hub(f\"{bart_run_name}-best\")"
   ]
  },
  {
   "cell_type": "markdown",
   "metadata": {
    "id": "model_comparison"
   },
   "source": [
    "## 8. Model Comparison\n",
    "Comparison of the final ROUGE scores of the baseline, fine-tuned mT5-small, and fine-tuned BART-base models."
   ]
  },
  {
   "cell_type": "code",
   "execution_count": null,
   "metadata": {},
   "outputs": [
    {
     "name": "stdout",
     "output_type": "stream",
     "text": [
      "ROUGE Score Comparison:\n",
      "                    rouge1   rouge2   rougeL  rougeLsum\n",
      "Baseline (Lead-3)  15.9600   6.2100  12.3900    13.8200\n",
      "mT5-small          36.5831  17.8222  32.0591    32.1426\n",
      "BART-base          43.9906  23.6350  38.6560    38.6946\n",
      "\n",
      "MLflow Experiment Name: Research Paper Summarization - mT5 vs BART\n",
      "\n",
      "MLflow Run IDs (check UI for details):\n",
      "                             run_id     tags.mlflow.runName\n",
      "0  d751af44e2b148d187b93690a8e4bf98         capable-auk-759\n",
      "1  8b8cf301af5c47ac878304ea4e7aa160  mt5-small-finetune-run\n"
     ]
    }
   ],
   "source": [
    "# Preparing data for comparison table\n",
    "mt5_final_scores = {k.replace('eval_', ''): v for k, v in mt5_eval_results.items() if k.startswith('eval_rouge')}\n",
    "bart_final_scores = {k.replace('eval_', ''): v for k, v in bart_eval_results.items() if k.startswith('eval_rouge')}\n",
    "\n",
    "# Adding baseline scores (adjusting keys)\n",
    "baseline_final_scores = {k: v for k, v in baseline_rouge_dict.items() if k in mt5_final_scores}\n",
    "\n",
    "comparison_data = {\n",
    "    'Baseline (Lead-3)': baseline_final_scores,\n",
    "    'mT5-small': mt5_final_scores,\n",
    "    'BART-base': bart_final_scores\n",
    "}\n",
    "\n",
    "comparison_df = pd.DataFrame(comparison_data).T # Transpose for better readability\n",
    "comparison_df = comparison_df[['rouge1', 'rouge2', 'rougeL', 'rougeLsum']] # Ensure order\n",
    "\n",
    "print(\"ROUGE Score Comparison:\")\n",
    "print(comparison_df)\n",
    "\n",
    "print(f\"\\nMLflow Experiment Name: {mlflow_experiment_name}\")\n",
    "try:\n",
    "    experiment = mlflow.get_experiment_by_name(mlflow_experiment_name)\n",
    "    if experiment:\n",
    "        runs = mlflow.search_runs(experiment_ids=experiment.experiment_id)\n",
    "        print(\"\\nMLflow Run IDs (check UI for details):\")\n",
    "        print(runs[['run_id', 'tags.mlflow.runName']]) # Show run IDs and names\n",
    "except Exception as e:\n",
    "    print(f\"Could not fetch MLflow runs: {e}\")"
   ]
  },
  {
   "cell_type": "markdown",
   "metadata": {
    "id": "results_discussion"
   },
   "source": [
    "### 8.1 Discussion of Results\n",
    "\n",
    "*   **Baseline vs. Fine-tuned:** Both fine-tuned models (mT5 and BART) significantly outperform the Lead-3 baseline across all ROUGE metrics. This demonstrates the effectiveness of seq2seq learning for this abstractive summarization task.\n",
    "*   **mT5 vs. BART:** BART-base achieved higher results with all of the rouge scores\n",
    "*   **Considerations:** Acknowledge the limitations. `bart-base` might be outperformed by `bart-large-cnn`. mT5 is multilingual, which might be unnecessary overhead for this English task. The chosen hyperparameters were starting points; further tuning could improve either model. The relatively low ROUGE scores overall (compared to news summarization benchmarks) might reflect the inherent difficulty of summarizing complex academic abstracts into very short titles."
   ]
  },
  {
   "cell_type": "markdown",
   "metadata": {
    "id": "deployment_usage"
   },
   "source": [
    "## 9. Deployment and Usage (Hugging Face Hub)\n",
    "The fine-tuned models can be pushed to the Hugging Face Hub for easy sharing and usage. Below is an example of loading and using the **mT5** model from the Hub (assuming it was pushed)."
   ]
  },
  {
   "cell_type": "code",
   "execution_count": null,
   "metadata": {},
   "outputs": [],
   "source": [
    "# Optional: You can manually push the best models if not done via TrainingArguments\n",
    "hf_hub_username = \"Mug3n24\" # Replace with your HF username\n",
    "\n",
    "# Pushing mT5\n",
    "try:\n",
    "    print(f\"Pushing mT5 model ({mt5_run_name}) to Hub...\")\n",
    "    mt5_tokenizer.push_to_hub(f\"{hf_hub_username}/{mt5_run_name}-best\")\n",
    "    mt5_trainer.push_to_hub(f\"@{hf_hub_username}/{mt5_run_name}-best\", commit_message=f\"Add best mT5 model from training run {mt5_run_name}\")\n",
    "    print(\"mT5 push complete.\")\n",
    "except Exception as e:\n",
    "    print(f\"Error pushing mT5 to Hub (maybe already exists or login failed?): {e}\")\n",
    "\n",
    "# Pushing BART\n",
    "try:\n",
    "    print(f\"Pushing BART model ({bart_run_name}) to Hub...\")\n",
    "    bart_tokenizer.push_to_hub(f\"{hf_hub_username}/{bart_run_name}-best\")\n",
    "    bart_trainer.push_to_hub(f\"@{hf_hub_username}/{bart_run_name}-best\", commit_message=f\"Add best BART model from training run {bart_run_name}\")\n",
    "    print(\"BART push complete.\")\n",
    "except Exception as e:\n",
    "    print(f\"Error pushing BART to Hub (maybe already exists or login failed?): {e}\")"
   ]
  },
  {
   "cell_type": "code",
   "execution_count": null,
   "metadata": {},
   "outputs": [
    {
     "data": {
      "application/vnd.jupyter.widget-view+json": {
       "model_id": "9974b60d64f34c1baff92a7845bc9fae",
       "version_major": 2,
       "version_minor": 0
      },
      "text/plain": [
       "config.json:   0%|          | 0.00/1.68k [00:00<?, ?B/s]"
      ]
     },
     "metadata": {},
     "output_type": "display_data"
    },
    {
     "data": {
      "application/vnd.jupyter.widget-view+json": {
       "model_id": "c8372c7d6fec4ac0ae3afff3637c6bf1",
       "version_major": 2,
       "version_minor": 0
      },
      "text/plain": [
       "model.safetensors:   0%|          | 0.00/558M [00:00<?, ?B/s]"
      ]
     },
     "metadata": {},
     "output_type": "display_data"
    },
    {
     "data": {
      "application/vnd.jupyter.widget-view+json": {
       "model_id": "4f56a8a7cdb54b7fa85513c8e0703879",
       "version_major": 2,
       "version_minor": 0
      },
      "text/plain": [
       "generation_config.json:   0%|          | 0.00/262 [00:00<?, ?B/s]"
      ]
     },
     "metadata": {},
     "output_type": "display_data"
    },
    {
     "data": {
      "application/vnd.jupyter.widget-view+json": {
       "model_id": "9bc7e0ffdeb34190bd54668f47f61f86",
       "version_major": 2,
       "version_minor": 0
      },
      "text/plain": [
       "tokenizer_config.json:   0%|          | 0.00/1.27k [00:00<?, ?B/s]"
      ]
     },
     "metadata": {},
     "output_type": "display_data"
    },
    {
     "data": {
      "application/vnd.jupyter.widget-view+json": {
       "model_id": "5bfca02ae5a148e5a288e17f0fafb565",
       "version_major": 2,
       "version_minor": 0
      },
      "text/plain": [
       "vocab.json:   0%|          | 0.00/798k [00:00<?, ?B/s]"
      ]
     },
     "metadata": {},
     "output_type": "display_data"
    },
    {
     "data": {
      "application/vnd.jupyter.widget-view+json": {
       "model_id": "e3304785e0344f68bac4a5641aee73de",
       "version_major": 2,
       "version_minor": 0
      },
      "text/plain": [
       "merges.txt:   0%|          | 0.00/456k [00:00<?, ?B/s]"
      ]
     },
     "metadata": {},
     "output_type": "display_data"
    },
    {
     "data": {
      "application/vnd.jupyter.widget-view+json": {
       "model_id": "5eb50805e3734ea795746440e34d590e",
       "version_major": 2,
       "version_minor": 0
      },
      "text/plain": [
       "tokenizer.json:   0%|          | 0.00/3.56M [00:00<?, ?B/s]"
      ]
     },
     "metadata": {},
     "output_type": "display_data"
    },
    {
     "data": {
      "application/vnd.jupyter.widget-view+json": {
       "model_id": "1dabeb5d03d0428fbd5b756f5563a57d",
       "version_major": 2,
       "version_minor": 0
      },
      "text/plain": [
       "special_tokens_map.json:   0%|          | 0.00/279 [00:00<?, ?B/s]"
      ]
     },
     "metadata": {},
     "output_type": "display_data"
    },
    {
     "name": "stderr",
     "output_type": "stream",
     "text": [
      "Device set to use cuda:0\n"
     ]
    },
    {
     "name": "stdout",
     "output_type": "stream",
     "text": [
      "Pipeline loaded successfully for model: Mug3n24/bart-base-finetune-finetuned-research-papers-XX on device 0\n"
     ]
    }
   ],
   "source": [
    "from transformers import pipeline\n",
    "import torch # Ensure torch is imported\n",
    "\n",
    "# Make sure to replace with your actual username and the correct model name if pushed\n",
    "hub_model_id = \"Mug3n24/bart-base-finetune-finetuned-research-papers-XX\"\n",
    "\n",
    "try:\n",
    "    # A little check for GPU availability\n",
    "    device = 0 if torch.cuda.is_available() else -1\n",
    "    summarizer = pipeline(\"summarization\", model=hub_model_id, device=device)\n",
    "    print(f\"Pipeline loaded successfully for model: {hub_model_id} on device {device}\")\n",
    "except Exception as e:\n",
    "    print(f\"Could not load pipeline from Hub model {hub_model_id}. Error: {e}\")\n",
    "    print(\"Falling back to loading local best mT5 model...\")\n",
    "    local_model_path = f\"./results/{mt5_run_name}-best\"\n",
    "    if os.path.exists(local_model_path):\n",
    "        device = 0 if torch.cuda.is_available() else -1\n",
    "        summarizer = pipeline(\"summarization\", model=local_model_path, tokenizer=local_model_path, device=device)\n",
    "        print(f\"Pipeline loaded successfully from local path: {local_model_path} on device {device}\")\n",
    "    else:\n",
    "        summarizer = None\n",
    "        print(\"Local model path not found. Cannot create summarizer.\")"
   ]
  },
  {
   "cell_type": "code",
   "execution_count": null,
   "metadata": {},
   "outputs": [],
   "source": [
    "def print_summary(idx, dataset=hf_datasets[\"test\"]):\n",
    "    if summarizer is None:\n",
    "        print(\"Summarizer pipeline not available.\")\n",
    "        return\n",
    "\n",
    "    if idx >= len(dataset):\n",
    "        print(f\"Index {idx} out of bounds for the dataset (size {len(dataset)})\")\n",
    "        return\n",
    "\n",
    "    abstract = dataset[idx][\"abstract\"]\n",
    "    title = dataset[idx][\"title\"]\n",
    "\n",
    "    # Generation of a summary using the pipeline\n",
    "    # Necessary adjustment of max_length based on typical title length, min_length to encourage conciseness\n",
    "    try:\n",
    "        generated_summary = summarizer(abstract, max_length=MAX_TARGET_LEN + 10, min_length=5, do_sample=False)[0][\"summary_text\"]\n",
    "    except Exception as e:\n",
    "        print(f\"Error during summarization pipeline execution: {e}\")\n",
    "        generated_summary = \"[Error generating summary]\"\n",
    "\n",
    "    print(f\"--- Example {idx} ---\")\n",
    "    print(f\">>> Abstract:\\n{abstract}\")\n",
    "    print(f\"\\n>>> Actual Title:\\n{title}\")\n",
    "    print(f\"\\n>>> Generated Summary (mT5-small):{generated_summary}\")\n",
    "    print(\"-\" * 20)"
   ]
  },
  {
   "cell_type": "markdown",
   "metadata": {
    "id": "XtqPUv6jrhHN",
    "outputId": "c753ac3b-c285-449d-89d1-79c70d4cc388"
   },
   "source": [
    "# Print a few examples from the test set"
   ]
  },
  {
   "cell_type": "code",
   "execution_count": null,
   "metadata": {},
   "outputs": [
    {
     "name": "stdout",
     "output_type": "stream",
     "text": [
      "--- Example 10 ---\n",
      ">>> Abstract:\n",
      "This article focuses on how organizations search for the key factors to develop integral changes and determine broader and higher transcendental learning skills in order to achieve healthy and sustainable organizational growth more effectively and efficiently. This study employed qualitative approaches. The research method used is an in-depth interview of 16 key informants in the field of Non-Formal Education, Transformation, and Healthy Organization Development in Thailand, from both private and government entities. The key query was that in the next 10 years, what will the healthier sustainable organizations look like and what are the main factors to enhance integral healthy organizations? The data was analyzed and interpreted with content-analysis techniques in understanding key factors with insights of how to uplift organizational well-being. Results yielded the eight essential factors for development of a healthy organization integrally â€“ Principle, Physical, Mind, Intellectual, Emotion, Organization, Social, and Environment which are all reciprocally interconnected to accomplish a resilient and sustainable healthy organization. To achieve an integral healthy organization, a balanced organizational structure and climate are required to support change through perspective transformation in order to further develop mutual trust and respect. In addition, public consciousness and systematic ecological worldview development are essential for the realization that organizations are whole and at the same time are parts of the higher whole. It is anticipated that these findings will (1) contribute meaningful information of what are the key factors relating to the development of integral healthy organization, (2) contribute insights as to how those factors interact sequentially and systematically to achieve the greater meaning of balanced and resilient organizations, (3) contribute to learning about conditions impacting organizational direction and alignment to meet with sustainable growth and transcendental competitiveness, and (4) be a resource for further study.\n",
      "\n",
      ">>> Actual Title:\n",
      "Transformative Learning Factors to Enhance Integral Healthy Organizations\n",
      "\n",
      ">>> Generated Summary (mT5-small):Investigating the key factors affecting the development of integral healthy organizations: A qualitative approach\n",
      "--------------------\n",
      "--- Example 50 ---\n",
      ">>> Abstract:\n",
      "To date, the automatic exchange of product information be- tween business partners in a value chain is typically done using Business- to-Business (B2B) catalog standards such as EDIFACT, cXML, or BMEcat. At the same time, the Web of Data, in particular the GoodRela- tions vocabulary, offers the necessary means to publish highly-structured product data in a machine-readable format. The advantage of the pub- lication of rich product descriptions can be manifold, including better integration and exchange of information between Web applications, high- quality data along the various stages of the value chain, or the opportu- nity to support more precise and more effective searches. In this paper, we (1) stress the importance of rich product master data for e-commerce on the Semantic Web, and (2) present a tool to convert BMEcat XML data sources into an RDF-based data model anchored in the GoodRela- tions vocabulary. The benefits of our proposal are tested using product data collected from a set of 2500+ online retailers of varying sizes and domains. Online shopping has experienced significant growth during the last decade. Pre- liminary estimates of retail e-commerce sales in the US show an increase of 17.3% from the third quarter of 2011 to the third quarter of 2012, while they grew to almost five times 2003 levels, totaling 5.2 percent (57 billion dollars) of the entire retail sales market (15). These recent statistics indicate a large body of different- sized online stores ranging from major retailers like Amazon, BestBuy or Sears to small web shops offering only tens or hundreds of products. Hence it comes as no surprise that instances of popular commodities are offered by a fairly large number of shopping sites. Many of those online shops maintain databases where they can store information and data to describe their goods. Nonetheless, for site-owners it proves difficult to get hold of rich and high-quality product data for all of their items over time, especially if their specifications originate from product catalogs by different manufacturers. Large size retailers might obtain this information in a semi-automated fashion via some form of catalog exchange format. However, small shop owners might have to enter products and feature data manually. This scenario produces repeated definitions of the same product\n",
      "\n",
      ">>> Actual Title:\n",
      "Using BMEcat Catalogs as a Lever for Product Master Data on the Semantic Web\n",
      "\n",
      ">>> Generated Summary (mT5-small):An RDF-Based Approach to E-commerce\n",
      "--------------------\n",
      "--- Example 100 ---\n",
      ">>> Abstract:\n",
      "The cryosphere is an essential part of the earth system for understanding climate change. Components of the cryosphere, such as ice sheets and sea ice, are generally decreasing over time. However, previous studies have indicated differing trends between the Antarctic and the Arctic. The South Pole also shows internal differences in trends. These phenomena indicate the importance of continuous observation of the Polar Regions. Albedo is a main indicator for analyzing Antarctic climate change and is an important variable with regard to the radiation budget because it can provide positive feedback on polar warming and is related to net radiation and atmospheric heating in the mainly snow- and ice-covered Antarctic. Therefore, in this study, we analyzed long-term temporal and spatial variability of albedo and investigated the interrelationships between albedo and climatic variables over Antarctica. We used broadband surface albedo data from the Satellite Application Facility on Climate Monitoring and data for several climatic variables such as temperature and Antarctic oscillation index (AAO) during the period of 1983 to 2009. Time series analysis and correlation analysis were performed through linear regression using albedo and climatic variables. The results of this research indicated that albedo shows two trends, west trend and an east trend, over Antarctica. Most of the western side of Antarctica showed a negative trend of albedo (about −0.0007 to −0.0015 year−1), but the other side showed a positive trend (about 0.0006 year−1). In addition, albedo and surface temperature had a negative correlation, but this relationship was weaker in west Antarctica than in east Antarctica. The correlation between albedo and AAO revealed different relationships in the two regions; west Antarctica had a negative correlation and east Antarctica showed a positive correlation. In addition, the correlation between albedo and AAO was weaker in the west. This suggests that the eastern area is influenced by the atmosphere, but that the western area is influenced more strongly by other factors.\n",
      "\n",
      ">>> Actual Title:\n",
      "Long-Term Variability of Surface Albedo and Its Correlation with Climatic Variables over Antarctica\n",
      "\n",
      ">>> Generated Summary (mT5-small):Interrelationships between albedo and climatic variables over Antarctica\n",
      "--------------------\n"
     ]
    }
   ],
   "source": [
    "for i in [10, 50, 100]:\n",
    "    print_summary(i)"
   ]
  },
  {
   "cell_type": "markdown",
   "metadata": {
    "id": "repo_structure"
   },
   "source": [
    "## 10.Repository Architecture\n",
    "\n",
    " Repository structure of the project:\n",
    "\n",
    "```\n",
    "\n",
    "|── .gitignore\n",
    "|── data/\n",
    "│   └── top-10k-longest-abstracts.csv\n",
    "|── api/\n",
    "│   └── main\n",
    "|── results/\n",
    "│   ├── mt5-small-finetune-best/\n",
    "│   └── bart-base-finetune-best/\n",
    "├── final.ipynb\n",
    "|── requirements.txt\n",
    "|── README.md\n",
    "```\n",
    "\n",
    "**Explanation:**\n",
    "\n",
    "*   **`.gitignore`**: Prevents committing unnecessary files/folders: __pycache__/, mlruns/).\n",
    "*   **`data/`**: Stores the raw training dataset\n",
    "*   **`final.ipynb`**: Contains the primary Jupyter/Colab notebooks for analysis, training, and evaluation.\n",
    "*   **`results/`**: A place to store outputs like saved model checkpoints. It's often excluded from Git via `.gitignore` unless Git LFS is used for large files.\n",
    "*   **`requirements.txt`**: Generated using `pip freeze > requirements.txt`. Ensures others can recreate the exact environment."
   ]
  },
  {
   "cell_type": "markdown",
   "metadata": {
    "id": "conclusion"
   },
   "source": [
    "## 11. Conclusion\n",
    "\n",
    "This project successfully fine-tuned two sequence-to-sequence models, mT5-small and BART-base, for the task of generating research paper titles from abstracts. Both models demonstrated significant improvements over a simple Lead-3 baseline, highlighting the effectiveness of transfer learning for this NLP task.\n",
    "\n",
    "*BART-base achieved slightly better ROUGE scores suggesting it was slightly better at capturing the main essence in a fluent manner for this dataset/hyperparameter setup*\n",
    "\n",
    "MLflow was integrated to track experiments, facilitating comparison between the models. The fine-tuned models were saved locally and can be pushed to the Hugging Face Hub for easy deployment and use via the `pipeline` API.\n",
    "\n",
    "**Challenges:**\n",
    "*   Summarizing long, technical abstracts into concise titles is inherently challenging.\n",
    "*   Computational resources limited the exploration of larger models (e.g., `bart-large-cnn`) or extensive hyperparameter tuning.\n",
    "*   Evaluation with ROUGE provides a quantitative measure but doesn't fully capture semantic correctness or fluency, which requires qualitative analysis.\n",
    "\n",
    "**Future Work doable:**\n",
    "*   Fine-tune larger, more specialized models (e.g., `bart-large-cnn`, PEGASUS).\n",
    "*   Perform more extensive hyperparameter optimization (learning rate, batch size, scheduler).\n",
    "*   Experiment with different decoding strategies (beam search variations, top-k/top-p sampling).\n",
    "*   Incorporate more sophisticated preprocessing if needed (e.g., handling complex scientific notation).\n",
    "*   Conduct a human evaluation study to assess the quality and usefulness of the generated summaries."
   ]
  }
 ],
 "metadata": {
  "language_info": {
   "name": "python"
  }
 },
 "nbformat": 4,
 "nbformat_minor": 0
}
